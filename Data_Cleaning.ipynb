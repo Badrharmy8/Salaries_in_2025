{
 "cells": [
  {
   "cell_type": "markdown",
   "id": "8f4a263e",
   "metadata": {},
   "source": [
    "### `#` Importing Libraries:"
   ]
  },
  {
   "cell_type": "code",
   "execution_count": 1,
   "id": "ed38b7e1",
   "metadata": {},
   "outputs": [],
   "source": [
    "import pandas as pd\n",
    "import seaborn as sns\n",
    "import matplotlib.pyplot as plt"
   ]
  },
  {
   "cell_type": "markdown",
   "id": "5f20f45a",
   "metadata": {},
   "source": [
    "### `#` Loading Data: "
   ]
  },
  {
   "cell_type": "code",
   "execution_count": null,
   "id": "69fa6d8c",
   "metadata": {},
   "outputs": [],
   "source": [
    "data = pd.read_csv('Salaries.csv')"
   ]
  },
  {
   "cell_type": "markdown",
   "id": "8d3be063",
   "metadata": {},
   "source": [
    "### `#` Simple Analysis:"
   ]
  },
  {
   "cell_type": "code",
   "execution_count": 22,
   "id": "4c7e11e8",
   "metadata": {},
   "outputs": [
    {
     "name": "stdout",
     "output_type": "stream",
     "text": [
      "Shape Of Data : (786, 10)\n",
      "With Columns : ['TimeStamp', 'Title', 'Years of Experiences ', 'Salary', 'Date of Salary', 'What Is your Company', 'Work Type', 'Work Hour', 'City of Company site', 'Result']\n"
     ]
    }
   ],
   "source": [
    "print(f\"Shape Of Data : {data.shape}\")\n",
    "print(f'With Columns : {data.columns.to_list()}')"
   ]
  },
  {
   "cell_type": "code",
   "execution_count": 23,
   "id": "333c6602",
   "metadata": {},
   "outputs": [
    {
     "name": "stdout",
     "output_type": "stream",
     "text": [
      "<class 'pandas.core.frame.DataFrame'>\n",
      "RangeIndex: 786 entries, 0 to 785\n",
      "Data columns (total 10 columns):\n",
      " #   Column                 Non-Null Count  Dtype \n",
      "---  ------                 --------------  ----- \n",
      " 0   TimeStamp              786 non-null    object\n",
      " 1   Title                  786 non-null    object\n",
      " 2   Years of Experiences   786 non-null    object\n",
      " 3   Salary                 786 non-null    object\n",
      " 4   Date of Salary         786 non-null    object\n",
      " 5   What Is your Company   786 non-null    object\n",
      " 6   Work Type              786 non-null    object\n",
      " 7   Work Hour              786 non-null    object\n",
      " 8   City of Company site   729 non-null    object\n",
      " 9   Result                 786 non-null    int64 \n",
      "dtypes: int64(1), object(9)\n",
      "memory usage: 61.5+ KB\n"
     ]
    }
   ],
   "source": [
    "data.info()"
   ]
  },
  {
   "cell_type": "code",
   "execution_count": 26,
   "id": "c3fef9f4",
   "metadata": {},
   "outputs": [
    {
     "data": {
      "text/plain": [
       "2"
      ]
     },
     "execution_count": 26,
     "metadata": {},
     "output_type": "execute_result"
    }
   ],
   "source": [
    "data.duplicated().sum()"
   ]
  },
  {
   "cell_type": "code",
   "execution_count": null,
   "id": "1e38092e",
   "metadata": {},
   "outputs": [
    {
     "data": {
      "text/plain": [
       "TimeStamp                 0\n",
       "Title                     0\n",
       "Years of Experiences      0\n",
       "Salary                    0\n",
       "Date of Salary            0\n",
       "What Is your Company      0\n",
       "Work Type                 0\n",
       "Work Hour                 0\n",
       "City of Company site     57\n",
       "Result                    0\n",
       "dtype: int64"
      ]
     },
     "execution_count": 27,
     "metadata": {},
     "output_type": "execute_result"
    }
   ],
   "source": [
    "data.isna().sum()"
   ]
  },
  {
   "cell_type": "code",
   "execution_count": 46,
   "id": "bc4efd29",
   "metadata": {},
   "outputs": [
    {
     "name": "stdout",
     "output_type": "stream",
     "text": [
      "TimeStamp\n",
      "7/17/2025 10:41    4\n",
      "7/16/2025 20:12    4\n",
      "7/16/2025 20:31    4\n",
      "7/16/2025 20:24    3\n",
      "7/17/2025 15:13    3\n",
      "                  ..\n",
      "7/17/2025 10:12    1\n",
      "7/17/2025 10:14    1\n",
      "7/17/2025 10:16    1\n",
      "7/17/2025 10:17    1\n",
      "8/8/2025 0:49      1\n",
      "Name: count, Length: 673, dtype: int64\n",
      "-------------------------------------------\n",
      "Title\n",
      "Flutter Developer                13\n",
      "Software Engineer                12\n",
      "Data Analyst                     10\n",
      "Frontend Developer                7\n",
      "Android Developer                 7\n",
      "                                 ..\n",
      "Soc analyst tier1                 1\n",
      "Computer vision engineer          1\n",
      "Full stack dot net developer      1\n",
      "Nodejs developer                  1\n",
      "Retail Analyst                    1\n",
      "Name: count, Length: 583, dtype: int64\n",
      "-------------------------------------------\n",
      "Years of Experiences \n",
      "1              147\n",
      "2              145\n",
      "3              109\n",
      "4               69\n",
      "5               53\n",
      "              ... \n",
      "0.65             1\n",
      "11               1\n",
      "3.9              1\n",
      "less than 1      1\n",
      "Fresh            1\n",
      "Name: count, Length: 71, dtype: int64\n",
      "-------------------------------------------\n",
      "Salary\n",
      "30000           35\n",
      "20000           31\n",
      "15000           31\n",
      "12000           29\n",
      "40000           23\n",
      "                ..\n",
      "1100 dollar      1\n",
      "3500 USD         1\n",
      "90K EGP          1\n",
      "13k              1\n",
      "8800             1\n",
      "Name: count, Length: 290, dtype: int64\n",
      "-------------------------------------------\n",
      "Date of Salary\n",
      "7/1/2025      98\n",
      "7/17/2025     78\n",
      "1/1/2025      72\n",
      "7/16/2025     66\n",
      "6/1/2025      36\n",
      "              ..\n",
      "3/16/2025      1\n",
      "6/17/2025      1\n",
      "11/15/2024     1\n",
      "2/28/2015      1\n",
      "8/30/2024      1\n",
      "Name: count, Length: 153, dtype: int64\n",
      "-------------------------------------------\n",
      "What Is your Company\n",
      "Egyption                                                                                   472\n",
      "Not Egyption but site in egypt                                                             214\n",
      "Not Egyption and site out of egypt                                                          84\n",
      "corporate                                                                                    3\n",
      "Egyptian but all work outside Egypt                                                          1\n",
      "I don't own a company                                                                        1\n",
      "Fully remote operations                                                                      1\n",
      "morocco                                                                                      1\n",
      "Startup in canada , but there?s no site just online work and the whole team from Egypt       1\n",
      ".                                                                                            1\n",
      "Ag                                                                                           1\n",
      "Egyptian and site out of Egypt                                                               1\n",
      "Else                                                                                         1\n",
      "Multinational                                                                                1\n",
      "DXC                                                                                          1\n",
      "Saudi backdoor (dev team in Egypt)                                                           1\n",
      "Egyptian but have offices in Egypt, KSA, the UAE, and others                                 1\n",
      "Name: count, dtype: int64\n",
      "-------------------------------------------\n",
      "Work Type\n",
      "Hybird                  312\n",
      "Remotley                237\n",
      "On Site                 232\n",
      "Depends On Project        1\n",
      "Remote Hourly based       1\n",
      ".                         1\n",
      "Anything                  1\n",
      "Any of them?              1\n",
      "Name: count, dtype: int64\n",
      "-------------------------------------------\n",
      "Work Hour\n",
      "Full Time    760\n",
      "Part Time     24\n",
      ".              1\n",
      "Anything       1\n",
      "Name: count, dtype: int64\n",
      "-------------------------------------------\n",
      "City of Company site\n",
      "Cairo                  312\n",
      "Cairo                   70\n",
      "cairo                   53\n",
      "Giza                    26\n",
      "Alexandria              23\n",
      "                      ... \n",
      "dubai                    1\n",
      "Sudia                    1\n",
      "Cairo,maadi              1\n",
      "riyadh saudi arabia      1\n",
      "Baghdad                  1\n",
      "Name: count, Length: 155, dtype: int64\n",
      "-------------------------------------------\n",
      "Result\n",
      "0    786\n",
      "Name: count, dtype: int64\n",
      "-------------------------------------------\n"
     ]
    }
   ],
   "source": [
    "for column in data.columns:\n",
    "    print(data[column].value_counts())\n",
    "    print('-------------------------------------------')"
   ]
  },
  {
   "cell_type": "code",
   "execution_count": 49,
   "id": "1f3213c9",
   "metadata": {},
   "outputs": [
    {
     "name": "stdout",
     "output_type": "stream",
     "text": [
      "unique values of TimeStamp :\n",
      " 673\n",
      "unique values of Title :\n",
      " 583\n",
      "unique values of Years of Experiences  :\n",
      " 71\n",
      "unique values of Salary :\n",
      " 290\n",
      "unique values of Date of Salary :\n",
      " 153\n",
      "unique values of What Is your Company :\n",
      " 17\n",
      "unique values of Work Type :\n",
      " 8\n",
      "unique values of Work Hour :\n",
      " 4\n",
      "unique values of City of Company site :\n",
      " 155\n",
      "unique values of Result :\n",
      " 1\n"
     ]
    }
   ],
   "source": [
    "for column in data.columns:\n",
    "    print(f'unique values of {column} :\\n {data[column].nunique()}')\n"
   ]
  },
  {
   "cell_type": "code",
   "execution_count": 51,
   "id": "17525d98",
   "metadata": {},
   "outputs": [
    {
     "data": {
      "text/html": [
       "<div>\n",
       "<style scoped>\n",
       "    .dataframe tbody tr th:only-of-type {\n",
       "        vertical-align: middle;\n",
       "    }\n",
       "\n",
       "    .dataframe tbody tr th {\n",
       "        vertical-align: top;\n",
       "    }\n",
       "\n",
       "    .dataframe thead th {\n",
       "        text-align: right;\n",
       "    }\n",
       "</style>\n",
       "<table border=\"1\" class=\"dataframe\">\n",
       "  <thead>\n",
       "    <tr style=\"text-align: right;\">\n",
       "      <th></th>\n",
       "      <th>TimeStamp</th>\n",
       "      <th>Title</th>\n",
       "      <th>Years of Experiences</th>\n",
       "      <th>Salary</th>\n",
       "      <th>Date of Salary</th>\n",
       "      <th>What Is your Company</th>\n",
       "      <th>Work Type</th>\n",
       "      <th>Work Hour</th>\n",
       "      <th>City of Company site</th>\n",
       "    </tr>\n",
       "  </thead>\n",
       "  <tbody>\n",
       "    <tr>\n",
       "      <th>count</th>\n",
       "      <td>786</td>\n",
       "      <td>786</td>\n",
       "      <td>786</td>\n",
       "      <td>786</td>\n",
       "      <td>786</td>\n",
       "      <td>786</td>\n",
       "      <td>786</td>\n",
       "      <td>786</td>\n",
       "      <td>729</td>\n",
       "    </tr>\n",
       "    <tr>\n",
       "      <th>unique</th>\n",
       "      <td>673</td>\n",
       "      <td>583</td>\n",
       "      <td>71</td>\n",
       "      <td>290</td>\n",
       "      <td>153</td>\n",
       "      <td>17</td>\n",
       "      <td>8</td>\n",
       "      <td>4</td>\n",
       "      <td>155</td>\n",
       "    </tr>\n",
       "    <tr>\n",
       "      <th>top</th>\n",
       "      <td>7/17/2025 10:41</td>\n",
       "      <td>Flutter Developer</td>\n",
       "      <td>1</td>\n",
       "      <td>30000</td>\n",
       "      <td>7/1/2025</td>\n",
       "      <td>Egyption</td>\n",
       "      <td>Hybird</td>\n",
       "      <td>Full Time</td>\n",
       "      <td>Cairo</td>\n",
       "    </tr>\n",
       "    <tr>\n",
       "      <th>freq</th>\n",
       "      <td>4</td>\n",
       "      <td>13</td>\n",
       "      <td>147</td>\n",
       "      <td>35</td>\n",
       "      <td>98</td>\n",
       "      <td>472</td>\n",
       "      <td>312</td>\n",
       "      <td>760</td>\n",
       "      <td>312</td>\n",
       "    </tr>\n",
       "  </tbody>\n",
       "</table>\n",
       "</div>"
      ],
      "text/plain": [
       "              TimeStamp              Title Years of Experiences  Salary  \\\n",
       "count               786                786                   786    786   \n",
       "unique              673                583                    71    290   \n",
       "top     7/17/2025 10:41  Flutter Developer                     1  30000   \n",
       "freq                  4                 13                   147     35   \n",
       "\n",
       "       Date of Salary What Is your Company Work Type  Work Hour  \\\n",
       "count             786                  786       786        786   \n",
       "unique            153                   17         8          4   \n",
       "top          7/1/2025             Egyption    Hybird  Full Time   \n",
       "freq               98                  472       312        760   \n",
       "\n",
       "       City of Company site  \n",
       "count                   729  \n",
       "unique                  155  \n",
       "top                   Cairo  \n",
       "freq                    312  "
      ]
     },
     "execution_count": 51,
     "metadata": {},
     "output_type": "execute_result"
    }
   ],
   "source": [
    "data.describe(include = object)"
   ]
  },
  {
   "cell_type": "markdown",
   "id": "026c91d4",
   "metadata": {},
   "source": [
    "### `#` City To Country Column:"
   ]
  },
  {
   "cell_type": "code",
   "execution_count": null,
   "id": "5d32c39f",
   "metadata": {},
   "outputs": [
    {
     "data": {
      "text/plain": [
       "array(['Cairo ', 'Cairo', 'Australia', 'Alexandria', 'New Cairo ',\n",
       "       'Kuwait', 'Saudi Arabia', 'UK', 'Dubai', 'Giza', 'Jordan ', 'USA',\n",
       "       'Mansoura', 'Bahrain', 'Canada', 'Bany swef', 'Germany',\n",
       "       'Lebnanon', 'El-Minia', 'Tanta', 'No sites ', 'New Cairo', 'USA ',\n",
       "       'UAE', 'Georgia', 'Mansoura ', 'Suez', 'Poland', 'Abu Dhabi',\n",
       "       'Marsa Alam', 'Qalyubia', 'New capital ', 'France', 'Zagazig ',\n",
       "       'London', 'Oman', 'Sharqia', 'Denmark', 'Kuwait ', 'Morocco',\n",
       "       'Switzerland', 'Jordan', 'New Capital ', 'Iraq', 'Germany '],\n",
       "      dtype=object)"
      ]
     },
     "execution_count": 39,
     "metadata": {},
     "output_type": "execute_result"
    }
   ],
   "source": [
    "# Unique Values In City Column\n",
    "data['City of Company site2'].unique()"
   ]
  },
  {
   "cell_type": "code",
   "execution_count": null,
   "id": "d6f1d794",
   "metadata": {},
   "outputs": [
    {
     "name": "stdout",
     "output_type": "stream",
     "text": [
      "Value: 'Cairo ' - Length: 6\n",
      "Value: 'Cairo' - Length: 5\n",
      "Value: 'Australia' - Length: 9\n",
      "Value: 'Alexandria' - Length: 10\n",
      "Value: 'New Cairo ' - Length: 10\n",
      "Value: 'Kuwait' - Length: 6\n",
      "Value: 'Saudi Arabia' - Length: 12\n",
      "Value: 'UK' - Length: 2\n",
      "Value: 'Dubai' - Length: 5\n",
      "Value: 'Giza' - Length: 4\n",
      "Value: 'Jordan ' - Length: 7\n",
      "Value: 'USA' - Length: 3\n",
      "Value: 'Mansoura' - Length: 8\n",
      "Value: 'Bahrain' - Length: 7\n",
      "Value: 'Canada' - Length: 6\n",
      "Value: 'Bany swef' - Length: 9\n",
      "Value: 'Germany' - Length: 7\n",
      "Value: 'Lebnanon' - Length: 8\n",
      "Value: 'El-Minia' - Length: 8\n",
      "Value: 'Tanta' - Length: 5\n",
      "Value: 'No sites ' - Length: 9\n",
      "Value: 'New Cairo' - Length: 9\n",
      "Value: 'USA ' - Length: 4\n",
      "Value: 'UAE' - Length: 3\n",
      "Value: 'Georgia' - Length: 7\n",
      "Value: 'Mansoura ' - Length: 9\n",
      "Value: 'Suez' - Length: 4\n",
      "Value: 'Poland' - Length: 6\n",
      "Value: 'Abu Dhabi' - Length: 9\n",
      "Value: 'Marsa Alam' - Length: 10\n",
      "Value: 'Qalyubia' - Length: 8\n",
      "Value: 'New capital ' - Length: 12\n",
      "Value: 'France' - Length: 6\n",
      "Value: 'Zagazig ' - Length: 8\n",
      "Value: 'London' - Length: 6\n",
      "Value: 'Oman' - Length: 4\n",
      "Value: 'Sharqia' - Length: 7\n",
      "Value: 'Denmark' - Length: 7\n",
      "Value: 'Kuwait ' - Length: 7\n",
      "Value: 'Morocco' - Length: 7\n",
      "Value: 'Switzerland' - Length: 11\n",
      "Value: 'Jordan' - Length: 6\n",
      "Value: 'New Capital ' - Length: 12\n",
      "Value: 'Iraq' - Length: 4\n",
      "Value: 'Germany ' - Length: 8\n"
     ]
    }
   ],
   "source": [
    "# Length Of City Values\n",
    "for val in data[\"City of Company site2\"].unique():\n",
    "    print(f\"Value: {repr(val)} - Length: {len(val)}\")\n"
   ]
  },
  {
   "cell_type": "code",
   "execution_count": null,
   "id": "b6056ecc",
   "metadata": {},
   "outputs": [],
   "source": [
    "# Format City Values\n",
    "data['City of Company site2'] = data['City of Company site2'].str.strip()\n",
    "data['City of Company site2'] = data['City of Company site2'].str.capitalize()"
   ]
  },
  {
   "cell_type": "code",
   "execution_count": null,
   "id": "8c0cc978",
   "metadata": {},
   "outputs": [
    {
     "data": {
      "text/html": [
       "<div>\n",
       "<style scoped>\n",
       "    .dataframe tbody tr th:only-of-type {\n",
       "        vertical-align: middle;\n",
       "    }\n",
       "\n",
       "    .dataframe tbody tr th {\n",
       "        vertical-align: top;\n",
       "    }\n",
       "\n",
       "    .dataframe thead th {\n",
       "        text-align: right;\n",
       "    }\n",
       "</style>\n",
       "<table border=\"1\" class=\"dataframe\">\n",
       "  <thead>\n",
       "    <tr style=\"text-align: right;\">\n",
       "      <th></th>\n",
       "      <th>Title</th>\n",
       "      <th>Years of Experiences</th>\n",
       "      <th>Salary</th>\n",
       "      <th>Date of Salary</th>\n",
       "      <th>What Is your Company</th>\n",
       "      <th>Company</th>\n",
       "      <th>Work Type</th>\n",
       "      <th>Work Hour</th>\n",
       "      <th>City of Company site</th>\n",
       "      <th>City of Company site2</th>\n",
       "      <th>Country Site</th>\n",
       "    </tr>\n",
       "  </thead>\n",
       "  <tbody>\n",
       "    <tr>\n",
       "      <th>0</th>\n",
       "      <td>Front End</td>\n",
       "      <td>2</td>\n",
       "      <td>20000</td>\n",
       "      <td>6/30/2025</td>\n",
       "      <td>Egyption</td>\n",
       "      <td>Egyption</td>\n",
       "      <td>Remotley</td>\n",
       "      <td>Full Time</td>\n",
       "      <td>cairo</td>\n",
       "      <td>Cairo</td>\n",
       "      <td>Egypt</td>\n",
       "    </tr>\n",
       "    <tr>\n",
       "      <th>1</th>\n",
       "      <td>Full Stack .Net | Angular</td>\n",
       "      <td>3</td>\n",
       "      <td>26000</td>\n",
       "      <td>7/1/2025</td>\n",
       "      <td>Egyption</td>\n",
       "      <td>Egyption</td>\n",
       "      <td>Remotley</td>\n",
       "      <td>Full Time</td>\n",
       "      <td>Cairo</td>\n",
       "      <td>Cairo</td>\n",
       "      <td>Egypt</td>\n",
       "    </tr>\n",
       "    <tr>\n",
       "      <th>2</th>\n",
       "      <td>.Net Developsr</td>\n",
       "      <td>1.5 years</td>\n",
       "      <td>14000 EGP</td>\n",
       "      <td>6/1/2025</td>\n",
       "      <td>Egyption</td>\n",
       "      <td>Egyption</td>\n",
       "      <td>Remotley</td>\n",
       "      <td>Full Time</td>\n",
       "      <td>Cairo</td>\n",
       "      <td>Cairo</td>\n",
       "      <td>Egypt</td>\n",
       "    </tr>\n",
       "    <tr>\n",
       "      <th>3</th>\n",
       "      <td>IT Specialist</td>\n",
       "      <td>0</td>\n",
       "      <td>10000</td>\n",
       "      <td>5/1/2025</td>\n",
       "      <td>Egyption</td>\n",
       "      <td>Egyption</td>\n",
       "      <td>On Site</td>\n",
       "      <td>Full Time</td>\n",
       "      <td>Maadi, Cairo</td>\n",
       "      <td>Cairo</td>\n",
       "      <td>Egypt</td>\n",
       "    </tr>\n",
       "    <tr>\n",
       "      <th>4</th>\n",
       "      <td>Front end</td>\n",
       "      <td>1</td>\n",
       "      <td>40000</td>\n",
       "      <td>7/16/2025</td>\n",
       "      <td>Not Egyption but site in egypt</td>\n",
       "      <td>Not Egyption but site in egypt</td>\n",
       "      <td>Hybird</td>\n",
       "      <td>Full Time</td>\n",
       "      <td>Cairo</td>\n",
       "      <td>Cairo</td>\n",
       "      <td>Egypt</td>\n",
       "    </tr>\n",
       "    <tr>\n",
       "      <th>...</th>\n",
       "      <td>...</td>\n",
       "      <td>...</td>\n",
       "      <td>...</td>\n",
       "      <td>...</td>\n",
       "      <td>...</td>\n",
       "      <td>...</td>\n",
       "      <td>...</td>\n",
       "      <td>...</td>\n",
       "      <td>...</td>\n",
       "      <td>...</td>\n",
       "      <td>...</td>\n",
       "    </tr>\n",
       "    <tr>\n",
       "      <th>788</th>\n",
       "      <td>.Net Developer</td>\n",
       "      <td>2</td>\n",
       "      <td>28000</td>\n",
       "      <td>8/1/2025</td>\n",
       "      <td>Egyption</td>\n",
       "      <td>Egyption</td>\n",
       "      <td>Hybird</td>\n",
       "      <td>Full Time</td>\n",
       "      <td>Cairo</td>\n",
       "      <td>Cairo</td>\n",
       "      <td>Egypt</td>\n",
       "    </tr>\n",
       "    <tr>\n",
       "      <th>789</th>\n",
       "      <td>AI Software R&amp;D Engineer (AI/Backend/Frontend)</td>\n",
       "      <td>1.5</td>\n",
       "      <td>20000</td>\n",
       "      <td>2/2/2025</td>\n",
       "      <td>Egyption</td>\n",
       "      <td>Egyption</td>\n",
       "      <td>Remotley</td>\n",
       "      <td>Full Time</td>\n",
       "      <td>Giza</td>\n",
       "      <td>Giza</td>\n",
       "      <td>Egypt</td>\n",
       "    </tr>\n",
       "    <tr>\n",
       "      <th>790</th>\n",
       "      <td>Senior Software Engineer</td>\n",
       "      <td>6</td>\n",
       "      <td>$4000</td>\n",
       "      <td>8/8/2025</td>\n",
       "      <td>Not Egyption and site out of egypt</td>\n",
       "      <td>Not Egyption and site out of egypt</td>\n",
       "      <td>Remotley</td>\n",
       "      <td>Full Time</td>\n",
       "      <td>Dubai</td>\n",
       "      <td>Dubai</td>\n",
       "      <td>United Arab Emirates</td>\n",
       "    </tr>\n",
       "    <tr>\n",
       "      <th>791</th>\n",
       "      <td>C++ Software Engineer</td>\n",
       "      <td>2.5</td>\n",
       "      <td>800$</td>\n",
       "      <td>8/8/2025</td>\n",
       "      <td>Not Egyption and site out of egypt</td>\n",
       "      <td>Not Egyption and site out of egypt</td>\n",
       "      <td>Remotley</td>\n",
       "      <td>Full Time</td>\n",
       "      <td>Amman, Jordan</td>\n",
       "      <td>Jordan</td>\n",
       "      <td>Jordan</td>\n",
       "    </tr>\n",
       "    <tr>\n",
       "      <th>792</th>\n",
       "      <td>C++ (Embedded) Software Developer</td>\n",
       "      <td>3</td>\n",
       "      <td>35000</td>\n",
       "      <td>8/8/2025</td>\n",
       "      <td>Egyption</td>\n",
       "      <td>Egyption</td>\n",
       "      <td>Hybird</td>\n",
       "      <td>Full Time</td>\n",
       "      <td>Cairo</td>\n",
       "      <td>Cairo</td>\n",
       "      <td>Egypt</td>\n",
       "    </tr>\n",
       "  </tbody>\n",
       "</table>\n",
       "<p>793 rows × 11 columns</p>\n",
       "</div>"
      ],
      "text/plain": [
       "                                              Title Years of Experiences   \\\n",
       "0                                        Front End                      2   \n",
       "1                        Full Stack .Net | Angular                      3   \n",
       "2                                    .Net Developsr             1.5 years   \n",
       "3                                    IT Specialist                      0   \n",
       "4                                         Front end                     1   \n",
       "..                                              ...                   ...   \n",
       "788                                 .Net Developer                      2   \n",
       "789  AI Software R&D Engineer (AI/Backend/Frontend)                   1.5   \n",
       "790                        Senior Software Engineer                     6   \n",
       "791                           C++ Software Engineer                   2.5   \n",
       "792              C++ (Embedded) Software Developer                      3   \n",
       "\n",
       "        Salary Date of Salary                What Is your Company  \\\n",
       "0        20000      6/30/2025                            Egyption   \n",
       "1        26000       7/1/2025                            Egyption   \n",
       "2    14000 EGP       6/1/2025                            Egyption   \n",
       "3        10000       5/1/2025                            Egyption   \n",
       "4        40000      7/16/2025      Not Egyption but site in egypt   \n",
       "..         ...            ...                                 ...   \n",
       "788      28000       8/1/2025                            Egyption   \n",
       "789      20000       2/2/2025                            Egyption   \n",
       "790      $4000       8/8/2025  Not Egyption and site out of egypt   \n",
       "791       800$       8/8/2025  Not Egyption and site out of egypt   \n",
       "792      35000       8/8/2025                            Egyption   \n",
       "\n",
       "                                Company Work Type  Work Hour  \\\n",
       "0                              Egyption  Remotley  Full Time   \n",
       "1                              Egyption  Remotley  Full Time   \n",
       "2                              Egyption  Remotley  Full Time   \n",
       "3                              Egyption   On Site  Full Time   \n",
       "4        Not Egyption but site in egypt    Hybird  Full Time   \n",
       "..                                  ...       ...        ...   \n",
       "788                            Egyption    Hybird  Full Time   \n",
       "789                            Egyption  Remotley  Full Time   \n",
       "790  Not Egyption and site out of egypt  Remotley  Full Time   \n",
       "791  Not Egyption and site out of egypt  Remotley  Full Time   \n",
       "792                            Egyption    Hybird  Full Time   \n",
       "\n",
       "    City of Company site City of Company site2          Country Site  \n",
       "0                  cairo                 Cairo                 Egypt  \n",
       "1                 Cairo                  Cairo                 Egypt  \n",
       "2                  Cairo                 Cairo                 Egypt  \n",
       "3           Maadi, Cairo                 Cairo                 Egypt  \n",
       "4                  Cairo                 Cairo                 Egypt  \n",
       "..                   ...                   ...                   ...  \n",
       "788               Cairo                  Cairo                 Egypt  \n",
       "789                 Giza                  Giza                 Egypt  \n",
       "790                Dubai                 Dubai  United Arab Emirates  \n",
       "791        Amman, Jordan                Jordan                Jordan  \n",
       "792                Cairo                 Cairo                 Egypt  \n",
       "\n",
       "[793 rows x 11 columns]"
      ]
     },
     "execution_count": 49,
     "metadata": {},
     "output_type": "execute_result"
    }
   ],
   "source": [
    "# Mapping City To Country\n",
    "city_to_country = {\n",
    "    \"Alexandria\": \"Egypt\",\n",
    "    \"Bany swef\": \"Egypt\",\n",
    "    \"Cairo\": \"Egypt\",\n",
    "    \"El-minia\": \"Egypt\",\n",
    "    \"Giza\": \"Egypt\",\n",
    "    \"Mansoura\": \"Egypt\",\n",
    "    \"Marsa alam\": \"Egypt\",\n",
    "    \"New cairo\": \"Egypt\",\n",
    "    \"New capital\": \"Egypt\",\n",
    "    \"Sharqia\": \"Egypt\",\n",
    "    \"Suez\": \"Egypt\",\n",
    "    \"Tanta\": \"Egypt\",\n",
    "    \"Zagazig\": \"Egypt\",\n",
    "    \"Qalyubia\": \"Egypt\",\n",
    "    \"Saudi arabia\": \"Saudi Arabia\",\n",
    "    \"Abu dhabi\": \"United Arab Emirates\",\n",
    "    \"Dubai\": \"United Arab Emirates\",\n",
    "    \"Uae\": \"United Arab Emirates\",\n",
    "    \"London\": \"United Kingdom\",\n",
    "    \"Uk\": \"United Kingdom\",\n",
    "    \"Usa\": \"United States of America\",\n",
    "    \"Switzerland\": \"Switzerland\",\n",
    "    \"Poland\": \"Poland\",\n",
    "    \"Oman\": \"Oman\",\n",
    "    \"Morocco\": \"Morocco\",\n",
    "    \"Lebnanon\": \"Lebanon\",\n",
    "    \"Kuwait\": \"Kuwait\",\n",
    "    \"Jordan\": \"Jordan\",\n",
    "    \"Iraq\": \"Iraq\",\n",
    "    \"Germany\": \"Germany\",\n",
    "    \"Georgia\": \"Georgia\",\n",
    "    \"France\": \"France\",\n",
    "    \"Denmark\": \"Denmark\",\n",
    "    \"Canada\": \"Canada\",\n",
    "    \"Bahrain\": \"Bahrain\",\n",
    "    \"Australia\": \"Australia\",\n",
    "    \"No sites\" : \"No Sites\"\n",
    "}\n",
    "\n",
    "data['Country Site'] = data['City of Company site2'].map(city_to_country)\n",
    "data"
   ]
  },
  {
   "cell_type": "code",
   "execution_count": null,
   "id": "616ff51d",
   "metadata": {},
   "outputs": [
    {
     "data": {
      "text/plain": [
       "0"
      ]
     },
     "execution_count": 51,
     "metadata": {},
     "output_type": "execute_result"
    }
   ],
   "source": [
    "data['Country Site'].isna().sum() # Check For Nulls"
   ]
  },
  {
   "cell_type": "code",
   "execution_count": null,
   "id": "ff05f8d5",
   "metadata": {},
   "outputs": [
    {
     "data": {
      "text/plain": [
       "array(['Egypt', 'Australia', 'Kuwait', 'Saudi Arabia', 'United Kingdom',\n",
       "       'United Arab Emirates', 'Jordan', 'United States of America',\n",
       "       'Bahrain', 'Canada', 'Germany', 'Lebanon', 'No Sites', 'Georgia',\n",
       "       'Poland', 'France', 'Oman', 'Denmark', 'Morocco', 'Switzerland',\n",
       "       'Iraq'], dtype=object)"
      ]
     },
     "execution_count": 52,
     "metadata": {},
     "output_type": "execute_result"
    }
   ],
   "source": [
    "data['Country Site'].unique() # Check After Mapping"
   ]
  },
  {
   "cell_type": "markdown",
   "id": "ab0b9c36",
   "metadata": {},
   "source": [
    "### `#` Format Company Values:"
   ]
  },
  {
   "cell_type": "code",
   "execution_count": 55,
   "id": "07469403",
   "metadata": {},
   "outputs": [
    {
     "data": {
      "text/plain": [
       "array(['Egyption', 'Not Egyption but site in egypt', 'corporate',\n",
       "       'Not Egyption and site out of egypt', 'Multinational ',\n",
       "       'Egyptian ', 'Egyptian', nan], dtype=object)"
      ]
     },
     "execution_count": 55,
     "metadata": {},
     "output_type": "execute_result"
    }
   ],
   "source": [
    "data['Company'].unique()"
   ]
  },
  {
   "cell_type": "code",
   "execution_count": null,
   "id": "d45c75e9",
   "metadata": {},
   "outputs": [],
   "source": [
    "data['Company'] = data['Company'].str.strip() # Removing Spaces"
   ]
  },
  {
   "cell_type": "code",
   "execution_count": null,
   "id": "16b94c7f",
   "metadata": {},
   "outputs": [],
   "source": [
    "data['Compnay'] = data['Company'].replace('Egyption' , 'Egyptian') # Correcting \n",
    "# Correcting And Mapping Any Not Egyptian Company To Not Egyptian\n",
    "data['Company'] = data['Company'].replace(['Not Egyption but site in egypt' , 'Not Egyption and site out of egypt'] , 'Not Egyptian')"
   ]
  },
  {
   "cell_type": "code",
   "execution_count": null,
   "id": "b7dae988",
   "metadata": {},
   "outputs": [
    {
     "data": {
      "text/plain": [
       "array(['Egyptian', 'Not Egyptian', 'corporate', 'Multinational', nan],\n",
       "      dtype=object)"
      ]
     },
     "execution_count": 69,
     "metadata": {},
     "output_type": "execute_result"
    }
   ],
   "source": [
    "data['Company'].unique() # Check Values After Updating"
   ]
  },
  {
   "cell_type": "code",
   "execution_count": null,
   "id": "bc5279c0",
   "metadata": {},
   "outputs": [
    {
     "data": {
      "text/html": [
       "<div>\n",
       "<style scoped>\n",
       "    .dataframe tbody tr th:only-of-type {\n",
       "        vertical-align: middle;\n",
       "    }\n",
       "\n",
       "    .dataframe tbody tr th {\n",
       "        vertical-align: top;\n",
       "    }\n",
       "\n",
       "    .dataframe thead th {\n",
       "        text-align: right;\n",
       "    }\n",
       "</style>\n",
       "<table border=\"1\" class=\"dataframe\">\n",
       "  <thead>\n",
       "    <tr style=\"text-align: right;\">\n",
       "      <th></th>\n",
       "      <th>Title</th>\n",
       "      <th>Years of Experiences</th>\n",
       "      <th>Salary</th>\n",
       "      <th>Date of Salary</th>\n",
       "      <th>What Is your Company</th>\n",
       "      <th>Company</th>\n",
       "      <th>Work Type</th>\n",
       "      <th>Work Hour</th>\n",
       "      <th>City of Company site</th>\n",
       "      <th>City of Company site2</th>\n",
       "      <th>Country Site</th>\n",
       "    </tr>\n",
       "  </thead>\n",
       "  <tbody>\n",
       "    <tr>\n",
       "      <th>688</th>\n",
       "      <td>Backend and DevOps Engineer (NodeJS, Java, AWS...</td>\n",
       "      <td>3</td>\n",
       "      <td>42000</td>\n",
       "      <td>7/23/2025</td>\n",
       "      <td>Fully remote operations</td>\n",
       "      <td>NaN</td>\n",
       "      <td>Remotley</td>\n",
       "      <td>Full Time</td>\n",
       "      <td>NaN</td>\n",
       "      <td>No sites</td>\n",
       "      <td>No Sites</td>\n",
       "    </tr>\n",
       "  </tbody>\n",
       "</table>\n",
       "</div>"
      ],
      "text/plain": [
       "                                                 Title Years of Experiences   \\\n",
       "688  Backend and DevOps Engineer (NodeJS, Java, AWS...                     3   \n",
       "\n",
       "    Salary Date of Salary     What Is your Company Company Work Type  \\\n",
       "688  42000      7/23/2025  Fully remote operations     NaN  Remotley   \n",
       "\n",
       "     Work Hour City of Company site City of Company site2 Country Site  \n",
       "688  Full Time                  NaN              No sites     No Sites  "
      ]
     },
     "execution_count": 68,
     "metadata": {},
     "output_type": "execute_result"
    }
   ],
   "source": [
    "data[data['Company'].isna()] # Check For Nulls"
   ]
  },
  {
   "cell_type": "code",
   "execution_count": null,
   "id": "5daa1fb7",
   "metadata": {},
   "outputs": [],
   "source": [
    "# Dropping Null Row\n",
    "data = data.dropna(subset=['Company'])"
   ]
  },
  {
   "cell_type": "code",
   "execution_count": null,
   "id": "852c10d9",
   "metadata": {},
   "outputs": [
    {
     "data": {
      "text/html": [
       "<div>\n",
       "<style scoped>\n",
       "    .dataframe tbody tr th:only-of-type {\n",
       "        vertical-align: middle;\n",
       "    }\n",
       "\n",
       "    .dataframe tbody tr th {\n",
       "        vertical-align: top;\n",
       "    }\n",
       "\n",
       "    .dataframe thead th {\n",
       "        text-align: right;\n",
       "    }\n",
       "</style>\n",
       "<table border=\"1\" class=\"dataframe\">\n",
       "  <thead>\n",
       "    <tr style=\"text-align: right;\">\n",
       "      <th></th>\n",
       "      <th>Title</th>\n",
       "      <th>Years of Experiences</th>\n",
       "      <th>Salary</th>\n",
       "      <th>Date of Salary</th>\n",
       "      <th>What Is your Company</th>\n",
       "      <th>Company</th>\n",
       "      <th>Work Type</th>\n",
       "      <th>Work Hour</th>\n",
       "      <th>City of Company site</th>\n",
       "      <th>City of Company site2</th>\n",
       "      <th>Country Site</th>\n",
       "    </tr>\n",
       "  </thead>\n",
       "  <tbody>\n",
       "  </tbody>\n",
       "</table>\n",
       "</div>"
      ],
      "text/plain": [
       "Empty DataFrame\n",
       "Columns: [Title, Years of Experiences , Salary, Date of Salary, What Is your Company, Company, Work Type, Work Hour, City of Company site, City of Company site2, Country Site]\n",
       "Index: []"
      ]
     },
     "execution_count": 76,
     "metadata": {},
     "output_type": "execute_result"
    }
   ],
   "source": [
    "# Checking Nulls After Dropping\n",
    "data[data['Company'].isna()]"
   ]
  },
  {
   "cell_type": "code",
   "execution_count": null,
   "id": "fd9a7a9b",
   "metadata": {},
   "outputs": [],
   "source": [
    "# Dropping Un Wanted Compnay Column\n",
    "data.drop('Compnay' , inplace = True , axis = 1)"
   ]
  },
  {
   "cell_type": "markdown",
   "id": "ecca5a71",
   "metadata": {},
   "source": [
    "### `#` Format Work Type Column:"
   ]
  },
  {
   "cell_type": "code",
   "execution_count": null,
   "id": "ae5af19c",
   "metadata": {},
   "outputs": [
    {
     "data": {
      "text/plain": [
       "array(['Remotley', 'On Site', 'Hybird', 'Depends On Project ',\n",
       "       'Remotley (Hourly based) '], dtype=object)"
      ]
     },
     "execution_count": 77,
     "metadata": {},
     "output_type": "execute_result"
    }
   ],
   "source": [
    "data['Work Type'].unique() "
   ]
  },
  {
   "cell_type": "code",
   "execution_count": null,
   "id": "0fa5ff91",
   "metadata": {},
   "outputs": [],
   "source": [
    "data['Work Type'] = data['Work Type'].str.strip() # Removing Spaces"
   ]
  },
  {
   "cell_type": "code",
   "execution_count": null,
   "id": "44d8840d",
   "metadata": {},
   "outputs": [],
   "source": [
    "data['Work Type'] = data['Work Type'].replace('Remotley' , 'Remotely') # Correcting\n",
    "data['Work Type'] = data['Work Type'].replace('Remotley (Hourly based)' , 'Remotely') # Correcting And Mapping"
   ]
  },
  {
   "cell_type": "code",
   "execution_count": null,
   "id": "f7f62337",
   "metadata": {},
   "outputs": [
    {
     "data": {
      "text/plain": [
       "array(['Remotely', 'On Site', 'Hybird', 'Depends On Project'],\n",
       "      dtype=object)"
      ]
     },
     "execution_count": 81,
     "metadata": {},
     "output_type": "execute_result"
    }
   ],
   "source": [
    "data['Work Type'].unique() # Check Values After Updating"
   ]
  },
  {
   "cell_type": "markdown",
   "id": "c59c3dc8",
   "metadata": {},
   "source": [
    "### `#` Format Work Hour Column:"
   ]
  },
  {
   "cell_type": "code",
   "execution_count": 88,
   "id": "0a904793",
   "metadata": {},
   "outputs": [
    {
     "data": {
      "text/plain": [
       "array(['Full Time', 'Part Time', 'Anything'], dtype=object)"
      ]
     },
     "execution_count": 88,
     "metadata": {},
     "output_type": "execute_result"
    }
   ],
   "source": [
    "data['Work Hour'].unique()"
   ]
  },
  {
   "cell_type": "code",
   "execution_count": null,
   "id": "16a8741f",
   "metadata": {},
   "outputs": [],
   "source": [
    "data['Work Hour'] = data['Work Hour'].str.strip() # Removing Spaces"
   ]
  },
  {
   "cell_type": "code",
   "execution_count": null,
   "id": "871c9f8a",
   "metadata": {},
   "outputs": [],
   "source": [
    "data['Work Hour'] = data['Work Hour'].replace('Anything' , 'Full Time') # Mapping "
   ]
  },
  {
   "cell_type": "markdown",
   "id": "5109baf3",
   "metadata": {},
   "source": [
    "### `#` Adding Experinece Level Column:"
   ]
  },
  {
   "cell_type": "code",
   "execution_count": 11,
   "id": "1410a59e",
   "metadata": {},
   "outputs": [],
   "source": [
    "def ex_level(x):\n",
    "    if x >= 0 and x < 2:\n",
    "        return 'Entry'\n",
    "    elif x >= 2 and x < 5:\n",
    "        return 'Mid'\n",
    "    elif x >= 5 and x < 8:\n",
    "        return 'Senior'\n",
    "    elif x >= 8 and x < 12:\n",
    "        return 'Lead'\n",
    "    else:\n",
    "        return 'Management'\n",
    "    \n",
    "data['Experience Level']  = data['Years of Experiences '].apply(ex_level)   "
   ]
  },
  {
   "cell_type": "markdown",
   "id": "aa875f7c",
   "metadata": {},
   "source": [
    "### `#` Loading Data To Salaries File:"
   ]
  },
  {
   "cell_type": "code",
   "execution_count": 14,
   "id": "161fc686",
   "metadata": {},
   "outputs": [],
   "source": [
    "data.to_csv(\"Salaries.csv\", index=False)"
   ]
  }
 ],
 "metadata": {
  "kernelspec": {
   "display_name": "base",
   "language": "python",
   "name": "python3"
  },
  "language_info": {
   "codemirror_mode": {
    "name": "ipython",
    "version": 3
   },
   "file_extension": ".py",
   "mimetype": "text/x-python",
   "name": "python",
   "nbconvert_exporter": "python",
   "pygments_lexer": "ipython3",
   "version": "3.12.7"
  }
 },
 "nbformat": 4,
 "nbformat_minor": 5
}
